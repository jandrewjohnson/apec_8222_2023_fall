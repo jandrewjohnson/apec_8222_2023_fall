{
    "cells": [
        {
            "cell_type": "markdown",
            "metadata": {},
            "source": [
                "In this section, we will use what we learned about fitting models and apply it to a very useful machine-learning algorithm.\n",
                "\n",
                "First let's start with imports.\n"
            ]
        },
        {
            "cell_type": "code",
            "metadata": {},
            "source": [
                "import numpy as np\n",
                "import scipy\n",
                "import sklearn\n",
                "from sklearn import datasets\n",
                "import pandas as pd\n",
                "import os"
            ],
            "execution_count": null,
            "outputs": []
        },
        {
            "cell_type": "markdown",
            "metadata": {},
            "source": [
                "#### Load in some digit image data\n",
                "\n",
                "One of the canonical datasets in sklearn is a series of images of handwritten digits. We've imported the datasets above, but now lets load it."
            ]
        },
        {
            "cell_type": "code",
            "metadata": {},
            "source": [
                "digits = datasets.load_digits()\n",
                "\n",
                "# First, take a look at the raw python object:\n",
                "print('digits\\n', digits)"
            ],
            "execution_count": null,
            "outputs": []
        },
        {
            "cell_type": "markdown",
            "metadata": {},
            "source": [
                "Not super helpful unless you're very good at reading python dictionary notation. Fortunately, one of the entries in this dataset is a description. Let's read that."
            ]
        },
        {
            "cell_type": "code",
            "metadata": {},
            "source": [
                "print('DESCR\\n', digits['DESCR'])"
            ],
            "execution_count": null,
            "outputs": []
        },
        {
            "cell_type": "markdown",
            "metadata": {},
            "source": [
                "#### Extract one of the digits to inspect\n",
                "\n",
                "Now that we're oriented, also look at one particular image of a digit, just so you know what it actually looks like. Below, we print just the first (index = 0) numeral of the 5620 they provide."
            ]
        },
        {
            "cell_type": "code",
            "metadata": {},
            "source": [
                "print('digits.images[0]\\n', digits.images[0])"
            ],
            "execution_count": null,
            "outputs": []
        },
        {
            "cell_type": "code",
            "metadata": {},
            "source": [
                "# If you squint, maybe you can tel what image it is, but let's plot it to be sure.\n",
                "import matplotlib\n",
                "from matplotlib import pyplot as plt\n",
                "plt.imshow(digits.images[0])\n",
                "plt.show()"
            ],
            "execution_count": null,
            "outputs": []
        },
        {
            "cell_type": "markdown",
            "metadata": {},
            "source": [
                "Notice also in the dataset that there is a 'targets' attribute in the dataset. This is the correct numeral that we are trying to make the model predict."
            ]
        },
        {
            "cell_type": "code",
            "metadata": {},
            "source": [
                "print('target', digits.target)"
            ],
            "execution_count": null,
            "outputs": []
        },
        {
            "cell_type": "markdown",
            "metadata": {},
            "source": [
                "Our task now is to train a model that inputs the digit images and predicts the digit numeral. For this, we're going to use SVM, as discussed in lecture.\n",
                "\n",
                "#### Import SVM and create a new (unfitted) model with it.\n",
                "\n",
                "For now, the parameters are going to be manually set (gamme) but we'll address how to choose them later. Here, I want to illustrate the basic approach used in sklearn to Load, train, fit and predict the model"
            ]
        },
        {
            "cell_type": "code",
            "metadata": {},
            "source": [
                "from sklearn import svm\n",
                "\n",
                "# Create the model object\n",
                "classifier = svm.SVC(gamma=0.001)"
            ],
            "execution_count": null,
            "outputs": []
        },
        {
            "cell_type": "markdown",
            "metadata": {},
            "source": [
                "At this point, classifier is not yet \"trained\", ie. not yet fit to the model. All ML algorithms in SKLEARN have a .fit() method, which we will use here, passing it the images and the targets.\n",
                "\n",
                "Before we train it, we want to split the data into testing and training splits.\n",
                "\n",
                "Class question: Remind me WHY are we splitting it here? What is the bad thing that would happen if we just trained it on all of them?\n",
                "\n",
                "Before we can even split the data, however, we need to reshape it to be in the way the regression model expects.\n",
                "\n",
                "In particular, the SVM model needs a 1-dimensional, 64 element array. BUT, the input digits we saw were 2-dimensional, 8 by 8 arrays.\n",
                "\n",
                "This actually leads to a somewhat mind-blown example of how computers \"think\" differently than we do. We clearly think about a numeral in 2 dimensional space, but here we see that the computer doesn't are about the spatial relationship ship at all. It sees each individual pixel as it's own \"Feature\" to use the classification parlance. You could even reshuffle the order of those 64 digits and as long as you kept it consistent across the data, it would result in identical predictions.\n",
                "\n",
                "Later on, we will talk about machine learning techniques that leverage rather than ignore this 2 dimensional, spatial nature of the data.\n",
                "\n",
                "For now, let's just look at the data again. Rather than print it out, I really just want the shape\n",
                "so that i don't get inundated with text."
            ]
        },
        {
            "cell_type": "code",
            "metadata": {},
            "source": [
                "print('digits.images shape', digits.images.shape)"
            ],
            "execution_count": null,
            "outputs": []
        },
        {
            "cell_type": "code",
            "metadata": {},
            "source": [
                "n_samples = len(digits.images)\n",
                "n_features = digits.images[0].size\n",
                "\n",
                "print('n_samples', n_samples)\n",
                "print('n_features', n_features)\n",
                "\n",
                "data = digits.images.reshape((n_samples, n_features))\n",
                "\n",
                "# Now check the shame again to see that it's right.\n",
                "print('data shape', data.shape)"
            ],
            "execution_count": null,
            "outputs": []
        },
        {
            "cell_type": "code",
            "metadata": {},
            "source": [
                "# Now that we've arranged our data in this shape, we can split it into training and testing sets\n",
                "from sklearn.model_selection import train_test_split\n",
                "\n",
                "X_train, X_test, y_train, y_test = train_test_split(data, digits.target, test_size=0.5, shuffle=False)\n",
                "\n",
                "print('X_train', X_train)\n",
                "print('y_train', y_train)"
            ],
            "execution_count": null,
            "outputs": []
        },
        {
            "cell_type": "markdown",
            "metadata": {},
            "source": [
                "#### Fit the  model\n",
                "\n",
                " Finally, now that we've split it, we can call the classifier's fit method which takes the TRAINING data as input."
            ]
        },
        {
            "cell_type": "code",
            "metadata": {},
            "source": [
                "classifier.fit(X_train, y_train)"
            ],
            "execution_count": null,
            "outputs": []
        },
        {
            "cell_type": "markdown",
            "metadata": {},
            "source": [
                "Now, our classifier object has it's internal parameters fit so that when we give it new input, it predicts what it thinks the correct classification is."
            ]
        },
        {
            "cell_type": "code",
            "metadata": {},
            "source": [
                "predicted = classifier.predict(X_test)\n",
                "\n",
                "# Looking at the predicted won't be very intuitive, but you could glance.\n",
                "print('predicted', predicted)"
            ],
            "execution_count": null,
            "outputs": []
        },
        {
            "cell_type": "markdown",
            "metadata": {},
            "source": [
                "#### Plot some results\n",
                "\n",
                "Let's plot a few of them in nicer format. Don't worry about learning the plotting code but it's a useful example to show the power."
            ]
        },
        {
            "cell_type": "code",
            "metadata": {},
            "source": [
                "_, axes = plt.subplots(2, 4)\n",
                "images_and_labels = list(zip(digits.images, digits.target))\n",
                "for ax, (image, label) in zip(axes[0, :], images_and_labels[:4]):\n",
                "    ax.set_axis_off()\n",
                "    ax.imshow(image, cmap=plt.cm.gray_r, interpolation='nearest')\n",
                "    ax.set_title('Training: %i' % label)\n",
                "\n",
                "images_and_predictions = list(zip(digits.images[n_samples // 2:], predicted))\n",
                "for ax, (image, prediction) in zip(axes[1, :], images_and_predictions[:4]):\n",
                "    ax.set_axis_off()\n",
                "    ax.imshow(image, cmap=plt.cm.gray_r, interpolation='nearest')\n",
                "    ax.set_title('Prediction: %i' % prediction)\n",
                "plt.show()"
            ],
            "execution_count": null,
            "outputs": []
        },
        {
            "cell_type": "code",
            "metadata": {},
            "source": [
                "from sklearn import metrics\n",
                "\n",
                "print(\"Classification report:\\n\", metrics.classification_report(y_test, predicted))"
            ],
            "execution_count": null,
            "outputs": []
        },
        {
            "cell_type": "markdown",
            "metadata": {},
            "source": [
                "#### Confusion matrix\n",
                "\n",
                "A more convenient way of looking at the results is t the confusion matrix. This is a built in metric for sklearn. It plots the predicted labels vs. the true labels."
            ]
        },
        {
            "cell_type": "code",
            "metadata": {},
            "source": [
                "# Finally, plot the Confusion Matrix to see which digits were most often confused with each other.\n",
                "from sklearn.metrics import ConfusionMatrixDisplay\n",
                "ConfusionMatrixDisplay.from_predictions(y_test, predicted)"
            ],
            "execution_count": null,
            "outputs": []
        },
        {
            "cell_type": "markdown",
            "metadata": {},
            "source": [
                "**QUESTION:** Which digit was hardest to categorize and what was it most frequently confused as?\n"
            ]
        }
    ],
    "metadata": [
        {
            "kernelspec": {
                "name": "python3",
                "language": "python",
                "display_name": "Python 3 (ipykernel)"
            }
        }
    ],
    "nbformat": 4,
    "nbformat_minor": 4
}