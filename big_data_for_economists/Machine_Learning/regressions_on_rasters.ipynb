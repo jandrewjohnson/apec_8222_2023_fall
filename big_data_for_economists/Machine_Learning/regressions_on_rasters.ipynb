{
    "cells": [
        {
            "cell_type": "markdown",
            "metadata": {},
            "source": [
                "# Regression on Rasters\n",
                "\n",
                "In this (short) notebook, we will explore how to run a regression on a dataset composed of multiple rasters.\n",
                "\n",
                "### What is a Raster Stack?\n",
                "\n",
                "-   Suppose you have multiple rasters (geotiffs) of variables that you think are related to each other.\n",
                "\n",
                "-   Suppose also that you have used the `align_and_resize_raster_stack()` function from PyGeoProcessing so that all of your rasters\n",
                "\n",
                "    -   Represent the exact same spatial extent (same geotransform)\n",
                "\n",
                "    -   Have the same size grid-cells (same projection and resolution)\n",
                "\n",
                "    -   Are stored as Numpy arrays with the exact same shape.\n",
                "\n",
                "-   In other words, they are aligned.\n",
                "\n",
                "    -   This is a Raster Stack and is very convenient for spatial computation.\n",
                "\n",
                "### Example of a timeseries Raster Stack\n",
                "\n",
                "-   One common example of a raster stack is representing some variable over time where each 2d raster is represents some time point:\n",
                "\n",
                "![](images/paste-3.png){width=\"672\"}\n",
                "\n",
                "### Example of a multivariate Raster Stack\n",
                "\n",
                "![](images/paste-5.png)\n",
                "\n",
                "### But how does this fit within a regression data table?\n",
                "\n",
                "-   Once these are represented as rasters, you can flatten them into 1d arrays\n",
                "\n",
                "![](images/paste-2.png)\n",
                "\n",
                "-   Then you can stack these 1d arrays into a standard 2-dimensional regression input table\n",
                "    -   This is what you will do in the homework assignment.\n",
                "\n",
                "![](images/paste-6.png)\n",
                "\n",
                "### Run the regression on this table that now contains the raster data\n",
                "\n",
                "- Once done, reshape the flattened array to get back the spatial information!"
            ]
        },
        {
            "cell_type": "code",
            "execution_count": null,
            "metadata": {},
            "outputs": [],
            "source": [
                "# load an array as a raster\n",
                "import numpy as np\n",
                "\n",
                "# Make a 5 by 7 raster of random integers\n",
                "raster = np.random.randint(0, 10, (5, 7))\n",
                "\n",
                "# Print the array\n",
                "print(raster)"
            ]
        },
        {
            "cell_type": "code",
            "execution_count": null,
            "metadata": {},
            "outputs": [],
            "source": [
                "# plot it too as a raster\n",
                "import matplotlib.pyplot as plt\n",
                "plt.imshow(raster)"
            ]
        },
        {
            "cell_type": "code",
            "execution_count": null,
            "metadata": {},
            "outputs": [],
            "source": [
                "# Flatten the array\n",
                "raster_flat = raster.flatten()\n",
                "\n",
                "# Print this one\n",
                "print(raster_flat)"
            ]
        },
        {
            "cell_type": "code",
            "execution_count": null,
            "metadata": {},
            "outputs": [],
            "source": [
                "# Do something to the raster (like use it in an OLS), here just simply add 1\n",
                "raster_flat_plus_1 = raster_flat + 1\n",
                "\n",
                "# Reshape the flattened array to get back the spatial information!\n",
                "raster_plus_1 = raster_flat_plus_1.reshape(raster.shape)\n",
                "\n",
                "# plot the raster again\n",
                "plt.imshow(raster_plus_1)"
            ]
        }
    ],
    "metadata": [
        {
            "kernelspec": {
                "display_name": "Python 3 (ipykernel)",
                "language": "python",
                "name": "python3"
            }
        }
    ],
    "nbformat": 4,
    "nbformat_minor": 4
}
